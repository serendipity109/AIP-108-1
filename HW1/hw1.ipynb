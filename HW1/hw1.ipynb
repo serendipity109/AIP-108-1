{
 "cells": [
  {
   "cell_type": "code",
   "execution_count": 9,
   "metadata": {},
   "outputs": [
    {
     "name": "stdout",
     "output_type": "stream",
     "text": [
      "\n"
     ]
    }
   ],
   "source": [
    "import tkinter as tk  \n",
    "from PIL import ImageTk,Image, ImageDraw\n",
    "from tkinter.filedialog import askopenfilename,  asksaveasfilename\n",
    "from os.path import splitext\n",
    "import numpy as np \n",
    "\n",
    "gui = tk.Tk()\n",
    "\n",
    "gui.title('AIP 60847047S')\n",
    "gui.geometry('1024x640')\n",
    "\n",
    "\n",
    "def Input(): \n",
    "    global PILFile\n",
    "    filename = askopenfilename()\n",
    "    t1 = splitext(filename)[-1]\n",
    "    t2 = t1[1:]\n",
    "    if t2 in {'jpg','BMP','ppm'}:\n",
    "        PILFile = Image.open(filename)\n",
    "        width, height = PILFile.size\n",
    "        lb.config(text = \"讀入 \"+ str(width) + \"X\" + str(height) + \" \" + t2 + \" 檔\")\n",
    "        PILFile = PILFile.resize((390, 480), Image.ANTIALIAS)       \n",
    "        create_img(PILFile)\n",
    "             \n",
    "    else:\n",
    "        lb.config(text = \"不支援的檔案格式\")\n",
    "            \n",
    "\n",
    "def create_img(PILFile):\n",
    "    global pilfile, qq\n",
    "    pilfile = ImageTk.PhotoImage(PILFile)\n",
    "    qq.configure(image = pilfile)    \n",
    "    qaq.configure(image = pilfile) \n",
    "    \n",
    "def save(img):\n",
    "    filename = asksaveasfilename(title = \"Select file\",filetypes = ([(\"PNG\", \"*.png\"),(\"JPEG\", \"*.jpg\"),(\"BMP\", \"*.BMP\"),(\"PPM\", \"*.ppm\"),(\"All files\", \"*\")]), defaultextension = \"*.*\")\n",
    "    print(filename)\n",
    "    if filename:\n",
    "        img.save(filename)\n",
    "        \n",
    "frame1 = tk.Frame(gui, width= 450, height= 580)\n",
    "qq = tk.Label(frame1)\n",
    "qq.pack()\n",
    "frame2 = tk.Frame(gui, width= 450, height = 580)\n",
    "qaq = tk.Label(frame2)\n",
    "qaq.pack()\n",
    "frame1.place(x = 0, y = 100)\n",
    "frame2.place(x = 670, y = 100)\n",
    "\n",
    "\n",
    "\n",
    "lb = tk.Label(gui, text = '', font = 30)\n",
    "lb.place(x = 450, y = 50)\n",
    "btn1 = tk.Button(gui, text = \"讀入檔案\", command = Input, font = 80, height = 3, width = 8)\n",
    "btn1.place(x = 0, y = 0)\n",
    "btn2 = tk.Button(gui, text = \"儲存檔案\", command = lambda : save(PILFile), font = 80, height = 3, width = 8)\n",
    "btn2.place(x = 82, y = 0) \n",
    "l1 = tk.Label(gui, text = '輸入影像', width = 10,height = 3, font = 30).place(x = 180, y = 600)\n",
    "l2 = tk.Label(gui, text = '輸出影像', width = 10,height = 3, font = 30).place(x = 780, y = 600)\n",
    "\n",
    "gui.mainloop()"
   ]
  },
  {
   "cell_type": "code",
   "execution_count": null,
   "metadata": {},
   "outputs": [],
   "source": []
  },
  {
   "cell_type": "code",
   "execution_count": null,
   "metadata": {},
   "outputs": [],
   "source": []
  }
 ],
 "metadata": {
  "kernelspec": {
   "display_name": "Python 3",
   "language": "python",
   "name": "python3"
  },
  "language_info": {
   "codemirror_mode": {
    "name": "ipython",
    "version": 3
   },
   "file_extension": ".py",
   "mimetype": "text/x-python",
   "name": "python",
   "nbconvert_exporter": "python",
   "pygments_lexer": "ipython3",
   "version": "3.7.3"
  }
 },
 "nbformat": 4,
 "nbformat_minor": 2
}
